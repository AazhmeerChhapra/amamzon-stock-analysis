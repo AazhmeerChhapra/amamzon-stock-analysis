{
 "cells": [
  {
   "cell_type": "code",
   "execution_count": 1,
   "metadata": {},
   "outputs": [],
   "source": [
    "import matplotlib.pyplot as plt\n",
    "import numpy as np\n",
    "import pandas as pd\n",
    "import torch\n",
    "import torch.nn as nn\n"
   ]
  },
  {
   "cell_type": "code",
   "execution_count": 12,
   "metadata": {},
   "outputs": [],
   "source": [
    "data = pd.read_csv('AMZN.csv')"
   ]
  },
  {
   "cell_type": "code",
   "execution_count": 13,
   "metadata": {},
   "outputs": [
    {
     "data": {
      "text/html": [
       "<div>\n",
       "<style scoped>\n",
       "    .dataframe tbody tr th:only-of-type {\n",
       "        vertical-align: middle;\n",
       "    }\n",
       "\n",
       "    .dataframe tbody tr th {\n",
       "        vertical-align: top;\n",
       "    }\n",
       "\n",
       "    .dataframe thead th {\n",
       "        text-align: right;\n",
       "    }\n",
       "</style>\n",
       "<table border=\"1\" class=\"dataframe\">\n",
       "  <thead>\n",
       "    <tr style=\"text-align: right;\">\n",
       "      <th></th>\n",
       "      <th>Date</th>\n",
       "      <th>Open</th>\n",
       "      <th>High</th>\n",
       "      <th>Low</th>\n",
       "      <th>Close</th>\n",
       "      <th>Adj Close</th>\n",
       "      <th>Volume</th>\n",
       "    </tr>\n",
       "  </thead>\n",
       "  <tbody>\n",
       "    <tr>\n",
       "      <th>0</th>\n",
       "      <td>1997-05-15</td>\n",
       "      <td>0.121875</td>\n",
       "      <td>0.125000</td>\n",
       "      <td>0.096354</td>\n",
       "      <td>0.097917</td>\n",
       "      <td>0.097917</td>\n",
       "      <td>1443120000</td>\n",
       "    </tr>\n",
       "    <tr>\n",
       "      <th>1</th>\n",
       "      <td>1997-05-16</td>\n",
       "      <td>0.098438</td>\n",
       "      <td>0.098958</td>\n",
       "      <td>0.085417</td>\n",
       "      <td>0.086458</td>\n",
       "      <td>0.086458</td>\n",
       "      <td>294000000</td>\n",
       "    </tr>\n",
       "    <tr>\n",
       "      <th>2</th>\n",
       "      <td>1997-05-19</td>\n",
       "      <td>0.088021</td>\n",
       "      <td>0.088542</td>\n",
       "      <td>0.081250</td>\n",
       "      <td>0.085417</td>\n",
       "      <td>0.085417</td>\n",
       "      <td>122136000</td>\n",
       "    </tr>\n",
       "    <tr>\n",
       "      <th>3</th>\n",
       "      <td>1997-05-20</td>\n",
       "      <td>0.086458</td>\n",
       "      <td>0.087500</td>\n",
       "      <td>0.081771</td>\n",
       "      <td>0.081771</td>\n",
       "      <td>0.081771</td>\n",
       "      <td>109344000</td>\n",
       "    </tr>\n",
       "    <tr>\n",
       "      <th>4</th>\n",
       "      <td>1997-05-21</td>\n",
       "      <td>0.081771</td>\n",
       "      <td>0.082292</td>\n",
       "      <td>0.068750</td>\n",
       "      <td>0.071354</td>\n",
       "      <td>0.071354</td>\n",
       "      <td>377064000</td>\n",
       "    </tr>\n",
       "  </tbody>\n",
       "</table>\n",
       "</div>"
      ],
      "text/plain": [
       "         Date      Open      High       Low     Close  Adj Close      Volume\n",
       "0  1997-05-15  0.121875  0.125000  0.096354  0.097917   0.097917  1443120000\n",
       "1  1997-05-16  0.098438  0.098958  0.085417  0.086458   0.086458   294000000\n",
       "2  1997-05-19  0.088021  0.088542  0.081250  0.085417   0.085417   122136000\n",
       "3  1997-05-20  0.086458  0.087500  0.081771  0.081771   0.081771   109344000\n",
       "4  1997-05-21  0.081771  0.082292  0.068750  0.071354   0.071354   377064000"
      ]
     },
     "execution_count": 13,
     "metadata": {},
     "output_type": "execute_result"
    }
   ],
   "source": [
    "data.head()"
   ]
  },
  {
   "cell_type": "code",
   "execution_count": 14,
   "metadata": {},
   "outputs": [],
   "source": [
    "data = data[['Date', 'Close']]"
   ]
  },
  {
   "cell_type": "code",
   "execution_count": 15,
   "metadata": {},
   "outputs": [],
   "source": [
    "data['Date'] = pd.to_datetime(data['Date'])"
   ]
  },
  {
   "cell_type": "code",
   "execution_count": 16,
   "metadata": {},
   "outputs": [
    {
     "data": {
      "text/plain": [
       "[<matplotlib.lines.Line2D at 0x13e9411a750>]"
      ]
     },
     "execution_count": 16,
     "metadata": {},
     "output_type": "execute_result"
    },
    {
     "data": {
      "image/png": "[encoded data removed]",
      "text/plain": [
       "<Figure size 640x480 with 1 Axes>"
      ]
     },
     "metadata": {},
     "output_type": "display_data"
    }
   ],
   "source": [
    "plt.plot(data['Date'],data['Close'])"
   ]
  },
  {
   "cell_type": "code",
   "execution_count": 17,
   "metadata": {},
   "outputs": [
    {
     "data": {
      "text/plain": [
       "'cuda:0'"
      ]
     },
     "execution_count": 17,
     "metadata": {},
     "output_type": "execute_result"
    }
   ],
   "source": [
    "device = 'cuda:0' if torch.cuda.is_available() else 'cpu'\n",
    "device"
   ]
  },
  {
   "cell_type": "code",
   "execution_count": 19,
   "metadata": {},
   "outputs": [
    {
     "data": {
      "text/html": [
       "<div>\n",
       "<style scoped>\n",
       "    .dataframe tbody tr th:only-of-type {\n",
       "        vertical-align: middle;\n",
       "    }\n",
       "\n",
       "    .dataframe tbody tr th {\n",
       "        vertical-align: top;\n",
       "    }\n",
       "\n",
       "    .dataframe thead th {\n",
       "        text-align: right;\n",
       "    }\n",
       "</style>\n",
       "<table border=\"1\" class=\"dataframe\">\n",
       "  <thead>\n",
       "    <tr style=\"text-align: right;\">\n",
       "      <th></th>\n",
       "      <th>Close</th>\n",
       "      <th>lag_1</th>\n",
       "      <th>lag_2</th>\n",
       "      <th>lag_3</th>\n",
       "      <th>lag_4</th>\n",
       "      <th>lag_5</th>\n",
       "      <th>lag_6</th>\n",
       "      <th>lag_7</th>\n",
       "    </tr>\n",
       "    <tr>\n",
       "      <th>Date</th>\n",
       "      <th></th>\n",
       "      <th></th>\n",
       "      <th></th>\n",
       "      <th></th>\n",
       "      <th></th>\n",
       "      <th></th>\n",
       "      <th></th>\n",
       "      <th></th>\n",
       "    </tr>\n",
       "  </thead>\n",
       "  <tbody>\n",
       "    <tr>\n",
       "      <th>1997-05-27</th>\n",
       "      <td>0.079167</td>\n",
       "      <td>0.075000</td>\n",
       "      <td>0.069792</td>\n",
       "      <td>0.071354</td>\n",
       "      <td>0.081771</td>\n",
       "      <td>0.085417</td>\n",
       "      <td>0.086458</td>\n",
       "      <td>0.097917</td>\n",
       "    </tr>\n",
       "    <tr>\n",
       "      <th>1997-05-28</th>\n",
       "      <td>0.076563</td>\n",
       "      <td>0.079167</td>\n",
       "      <td>0.075000</td>\n",
       "      <td>0.069792</td>\n",
       "      <td>0.071354</td>\n",
       "      <td>0.081771</td>\n",
       "      <td>0.085417</td>\n",
       "      <td>0.086458</td>\n",
       "    </tr>\n",
       "    <tr>\n",
       "      <th>1997-05-29</th>\n",
       "      <td>0.075260</td>\n",
       "      <td>0.076563</td>\n",
       "      <td>0.079167</td>\n",
       "      <td>0.075000</td>\n",
       "      <td>0.069792</td>\n",
       "      <td>0.071354</td>\n",
       "      <td>0.081771</td>\n",
       "      <td>0.085417</td>\n",
       "    </tr>\n",
       "    <tr>\n",
       "      <th>1997-05-30</th>\n",
       "      <td>0.075000</td>\n",
       "      <td>0.075260</td>\n",
       "      <td>0.076563</td>\n",
       "      <td>0.079167</td>\n",
       "      <td>0.075000</td>\n",
       "      <td>0.069792</td>\n",
       "      <td>0.071354</td>\n",
       "      <td>0.081771</td>\n",
       "    </tr>\n",
       "    <tr>\n",
       "      <th>1997-06-02</th>\n",
       "      <td>0.075521</td>\n",
       "      <td>0.075000</td>\n",
       "      <td>0.075260</td>\n",
       "      <td>0.076563</td>\n",
       "      <td>0.079167</td>\n",
       "      <td>0.075000</td>\n",
       "      <td>0.069792</td>\n",
       "      <td>0.071354</td>\n",
       "    </tr>\n",
       "  </tbody>\n",
       "</table>\n",
       "</div>"
      ],
      "text/plain": [
       "               Close     lag_1     lag_2     lag_3     lag_4     lag_5  \\\n",
       "Date                                                                     \n",
       "1997-05-27  0.079167  0.075000  0.069792  0.071354  0.081771  0.085417   \n",
       "1997-05-28  0.076563  0.079167  0.075000  0.069792  0.071354  0.081771   \n",
       "1997-05-29  0.075260  0.076563  0.079167  0.075000  0.069792  0.071354   \n",
       "1997-05-30  0.075000  0.075260  0.076563  0.079167  0.075000  0.069792   \n",
       "1997-06-02  0.075521  0.075000  0.075260  0.076563  0.079167  0.075000   \n",
       "\n",
       "               lag_6     lag_7  \n",
       "Date                            \n",
       "1997-05-27  0.086458  0.097917  \n",
       "1997-05-28  0.085417  0.086458  \n",
       "1997-05-29  0.081771  0.085417  \n",
       "1997-05-30  0.071354  0.081771  \n",
       "1997-06-02  0.069792  0.071354  "
      ]
     },
     "execution_count": 19,
     "metadata": {},
     "output_type": "execute_result"
    }
   ],
   "source": [
    "from copy import deepcopy as dc\n",
    "def prepare_data_for_lstm(data, lookback):\n",
    "    df = dc(data)\n",
    "    df.set_index('Date', inplace=True)\n",
    "    for i in range(1, lookback+1):\n",
    "        df[f'lag_{i}'] = df['Close'].shift(i)\n",
    "    df.dropna(inplace=True)\n",
    "    return df\n",
    "shifted_data = prepare_data_for_lstm(data, 7)\n",
    "shifted_data.head()\n"
   ]
  },
  {
   "cell_type": "code",
   "execution_count": 24,
   "metadata": {},
   "outputs": [],
   "source": [
    "shifted_data_Array= shifted_data.to_numpy()"
   ]
  },
  {
   "cell_type": "code",
   "execution_count": 25,
   "metadata": {},
   "outputs": [
    {
     "data": {
      "text/plain": [
       "array([[7.91670000e-02, 7.50000000e-02, 6.97920000e-02, ...,\n",
       "        8.54170000e-02, 8.64580000e-02, 9.79170000e-02],\n",
       "       [7.65630000e-02, 7.91670000e-02, 7.50000000e-02, ...,\n",
       "        8.17710000e-02, 8.54170000e-02, 8.64580000e-02],\n",
       "       [7.52600000e-02, 7.65630000e-02, 7.91670000e-02, ...,\n",
       "        7.13540000e-02, 8.17710000e-02, 8.54170000e-02],\n",
       "       ...,\n",
       "       [1.02410004e+02, 1.03290001e+02, 1.02000000e+02, ...,\n",
       "        9.80400010e+01, 9.81299970e+01, 9.87099990e+01],\n",
       "       [1.03949997e+02, 1.02410004e+02, 1.03290001e+02, ...,\n",
       "        9.72399980e+01, 9.80400010e+01, 9.81299970e+01],\n",
       "       [1.01099998e+02, 1.03949997e+02, 1.02410004e+02, ...,\n",
       "        1.00250000e+02, 9.72399980e+01, 9.80400010e+01]])"
      ]
     },
     "execution_count": 25,
     "metadata": {},
     "output_type": "execute_result"
    }
   ],
   "source": [
    "shifted_data_Array"
   ]
  },
  {
   "cell_type": "code",
   "execution_count": 27,
   "metadata": {},
   "outputs": [],
   "source": [
    "from sklearn.preprocessing import MinMaxScaler\n",
    "scaler = MinMaxScaler(feature_range=(-1, 1))\n",
    "shifted_data_Array = scaler.fit_transform(shifted_data_Array)"
   ]
  },
  {
   "cell_type": "code",
   "execution_count": 28,
   "metadata": {},
   "outputs": [
    {
     "data": {
      "text/plain": [
       "array([[-0.99991063, -0.99995531, -1.        , ..., -0.99983244,\n",
       "        -0.99982128, -0.99969839],\n",
       "       [-0.99993855, -0.99991063, -0.99994415, ..., -0.99987154,\n",
       "        -0.99983244, -0.99982128],\n",
       "       [-0.99995253, -0.99993855, -0.99989946, ..., -0.99998325,\n",
       "        -0.99987154, -0.99983244],\n",
       "       ...,\n",
       "       [ 0.09747299,  0.10690997,  0.09308121, ...,  0.0506149 ,\n",
       "         0.05158   ,  0.05779984],\n",
       "       [ 0.11398769,  0.09747299,  0.10691495, ...,  0.04203581,\n",
       "         0.0506149 ,  0.05158   ],\n",
       "       [ 0.08342464,  0.11398769,  0.09747802, ...,  0.07431453,\n",
       "         0.04203581,  0.0506149 ]])"
      ]
     },
     "execution_count": 28,
     "metadata": {},
     "output_type": "execute_result"
    }
   ],
   "source": [
    "shifted_data_Array"
   ]
  },
  {
   "cell_type": "code",
   "execution_count": 30,
   "metadata": {},
   "outputs": [
    {
     "data": {
      "text/plain": [
       "((6509, 7), (6509,))"
      ]
     },
     "execution_count": 30,
     "metadata": {},
     "output_type": "execute_result"
    }
   ],
   "source": [
    "X = shifted_data_Array[:, 1:]\n",
    "Y = shifted_data_Array[:, 0]\n",
    "X.shape, Y.shape"
   ]
  },
  {
   "cell_type": "code",
   "execution_count": 31,
   "metadata": {},
   "outputs": [
    {
     "data": {
      "text/plain": [
       "array([[-0.99969839, -0.99982128, -0.99983244, ..., -0.99998325,\n",
       "        -1.        , -0.99995531],\n",
       "       [-0.99982128, -0.99983244, -0.99987154, ..., -1.        ,\n",
       "        -0.99994415, -0.99991063],\n",
       "       [-0.99983244, -0.99987154, -0.99998325, ..., -0.99994415,\n",
       "        -0.99989946, -0.99993855],\n",
       "       ...,\n",
       "       [ 0.05779984,  0.05158   ,  0.0506149 , ...,  0.07431453,\n",
       "         0.09308121,  0.10690997],\n",
       "       [ 0.05158   ,  0.0506149 ,  0.04203581, ...,  0.09308121,\n",
       "         0.10691495,  0.09747299],\n",
       "       [ 0.0506149 ,  0.04203581,  0.07431453, ...,  0.10691495,\n",
       "         0.09747802,  0.11398769]])"
      ]
     },
     "execution_count": 31,
     "metadata": {},
     "output_type": "execute_result"
    }
   ],
   "source": [
    "X = np.flip(X, axis=1)\n",
    "X"
   ]
  },
  {
   "cell_type": "code",
   "execution_count": 86,
   "metadata": {},
   "outputs": [
    {
     "data": {
      "text/plain": [
       "((6183, 7), (326, 7), (6183,), (326,))"
      ]
     },
     "execution_count": 86,
     "metadata": {},
     "output_type": "execute_result"
    }
   ],
   "source": [
    "split_index = int(len(X) * 0.95)\n",
    "X_train, X_test = X[:split_index], X[split_index:]\n",
    "y_train, y_test = Y[:split_index], Y[split_index:]\n",
    "X_train.shape, X_test.shape, y_train.shape, y_test.shape"
   ]
  },
  {
   "cell_type": "code",
   "execution_count": 87,
   "metadata": {},
   "outputs": [],
   "source": [
    "lookback = 7\n",
    "X_train = X_train.reshape((-1, lookback, 1))\n",
    "X_test = X_test.reshape((-1, lookback,1))\n",
    "y_train = y_train.reshape((-1,1))\n",
    "y_test = y_test.reshape((-1,1))"
   ]
  },
  {
   "cell_type": "code",
   "execution_count": 88,
   "metadata": {},
   "outputs": [
    {
     "data": {
      "text/plain": [
       "((6183, 7, 1), (326, 7, 1), (6183, 1), (326, 1))"
      ]
     },
     "execution_count": 88,
     "metadata": {},
     "output_type": "execute_result"
    }
   ],
   "source": [
    "X_train.shape, X_test.shape, y_train.shape, y_test.shape\n"
   ]
  },
  {
   "cell_type": "code",
   "execution_count": 89,
   "metadata": {},
   "outputs": [],
   "source": [
    "# Make copies of the arrays using array.copy()\n",
    "X_train_copy = X_train.copy()\n",
    "y_train_copy = y_train.copy()\n",
    "X_test_copy = X_test.copy()\n",
    "y_test_copy = y_test.copy()\n",
    "# Convert the copied arrays to tensors\n",
    "X_train_tensor = torch.tensor(X_train_copy).float()\n",
    "y_train_tensor = torch.tensor(y_train_copy).float()\n",
    "X_test_tensor = torch.tensor(X_test_copy).float()\n",
    "y_test_tensor = torch.tensor(y_test_copy).float()"
   ]
  },
  {
   "cell_type": "code",
   "execution_count": 90,
   "metadata": {},
   "outputs": [
    {
     "data": {
      "text/plain": [
       "(torch.Size([6183, 7, 1]),\n",
       " torch.Size([326, 7, 1]),\n",
       " torch.Size([6183, 1]),\n",
       " torch.Size([326, 1]))"
      ]
     },
     "execution_count": 90,
     "metadata": {},
     "output_type": "execute_result"
    }
   ],
   "source": [
    "X_train_tensor.shape, X_test_tensor.shape, y_train_tensor.shape, y_test_tensor.shape"
   ]
  },
  {
   "cell_type": "code",
   "execution_count": 91,
   "metadata": {},
   "outputs": [],
   "source": [
    "from torch.utils.data import Dataset\n",
    "class TimeSeriesDataset(Dataset):\n",
    "    def __init__(self, X, y):\n",
    "        self.X = X\n",
    "        self.y = y\n",
    "    def __len__(self):\n",
    "        return len(self.X)\n",
    "    def __getitem__(self, i):\n",
    "        return self.X[i], self.y[i]\n",
    "\n",
    "train_dataset = TimeSeriesDataset(X_train_tensor, y_train_tensor)\n",
    "test_dataset = TimeSeriesDataset(X_test_tensor, y_test_tensor)"
   ]
  },
  {
   "cell_type": "code",
   "execution_count": 92,
   "metadata": {},
   "outputs": [],
   "source": [
    "from torch.utils.data import DataLoader\n",
    "\n",
    "batch_size = 16\n",
    "\n",
    "train_loader = DataLoader(train_dataset, batch_size = batch_size, shuffle = True)\n",
    "test_loader = DataLoader (test_dataset, batch_size = batch_size, shuffle = False)"
   ]
  },
  {
   "cell_type": "code",
   "execution_count": 93,
   "metadata": {},
   "outputs": [
    {
     "name": "stdout",
     "output_type": "stream",
     "text": [
      "batch[0] = tensor([[[-0.9917],\n",
      "         [-0.9921],\n",
      "         [-0.9927],\n",
      "         [-0.9929],\n",
      "         [-0.9929],\n",
      "         [-0.9936],\n",
      "         [-0.9935]],\n",
      "\n",
      "        [[-0.9611],\n",
      "         [-0.9591],\n",
      "         [-0.9591],\n",
      "         [-0.9601],\n",
      "         [-0.9611],\n",
      "         [-0.9610],\n",
      "         [-0.9591]],\n",
      "\n",
      "        [[-0.9904],\n",
      "         [-0.9899],\n",
      "         [-0.9897],\n",
      "         [-0.9891],\n",
      "         [-0.9894],\n",
      "         [-0.9898],\n",
      "         [-0.9901]],\n",
      "\n",
      "        [[ 0.7273],\n",
      "         [ 0.7528],\n",
      "         [ 0.7324],\n",
      "         [ 0.7321],\n",
      "         [ 0.7406],\n",
      "         [ 0.7167],\n",
      "         [ 0.7392]],\n",
      "\n",
      "        [[-0.9312],\n",
      "         [-0.9323],\n",
      "         [-0.9322],\n",
      "         [-0.9329],\n",
      "         [-0.9340],\n",
      "         [-0.9327],\n",
      "         [-0.9338]],\n",
      "\n",
      "        [[ 0.0096],\n",
      "         [ 0.0093],\n",
      "         [ 0.0469],\n",
      "         [ 0.0228],\n",
      "         [ 0.0587],\n",
      "         [ 0.0309],\n",
      "         [ 0.0186]],\n",
      "\n",
      "        [[ 0.9710],\n",
      "         [ 0.9733],\n",
      "         [ 0.9463],\n",
      "         [ 0.9154],\n",
      "         [ 0.9025],\n",
      "         [ 0.9152],\n",
      "         [ 0.9216]],\n",
      "\n",
      "        [[-0.9805],\n",
      "         [-0.9805],\n",
      "         [-0.9801],\n",
      "         [-0.9801],\n",
      "         [-0.9794],\n",
      "         [-0.9796],\n",
      "         [-0.9799]],\n",
      "\n",
      "        [[-0.9819],\n",
      "         [-0.9814],\n",
      "         [-0.9828],\n",
      "         [-0.9838],\n",
      "         [-0.9846],\n",
      "         [-0.9844],\n",
      "         [-0.9858]],\n",
      "\n",
      "        [[ 0.8636],\n",
      "         [ 0.8861],\n",
      "         [ 0.8700],\n",
      "         [ 0.9168],\n",
      "         [ 0.8663],\n",
      "         [ 0.8612],\n",
      "         [ 0.8894]],\n",
      "\n",
      "        [[-0.9917],\n",
      "         [-0.9917],\n",
      "         [-0.9917],\n",
      "         [-0.9921],\n",
      "         [-0.9918],\n",
      "         [-0.9919],\n",
      "         [-0.9920]],\n",
      "\n",
      "        [[ 0.0085],\n",
      "         [ 0.0055],\n",
      "         [ 0.0091],\n",
      "         [ 0.0206],\n",
      "         [ 0.0196],\n",
      "         [ 0.0209],\n",
      "         [ 0.0329]],\n",
      "\n",
      "        [[-0.3999],\n",
      "         [-0.3985],\n",
      "         [-0.3933],\n",
      "         [-0.3953],\n",
      "         [-0.3973],\n",
      "         [-0.3953],\n",
      "         [-0.3912]],\n",
      "\n",
      "        [[-0.9924],\n",
      "         [-0.9922],\n",
      "         [-0.9925],\n",
      "         [-0.9923],\n",
      "         [-0.9926],\n",
      "         [-0.9927],\n",
      "         [-0.9930]],\n",
      "\n",
      "        [[-0.9830],\n",
      "         [-0.9831],\n",
      "         [-0.9825],\n",
      "         [-0.9825],\n",
      "         [-0.9825],\n",
      "         [-0.9821],\n",
      "         [-0.9817]],\n",
      "\n",
      "        [[-0.9623],\n",
      "         [-0.9636],\n",
      "         [-0.9545],\n",
      "         [-0.9557],\n",
      "         [-0.9557],\n",
      "         [-0.9564],\n",
      "         [-0.9586]]])\n",
      "batch[1] = tensor([[-0.9932],\n",
      "        [-0.9607],\n",
      "        [-0.9893],\n",
      "        [ 0.7467],\n",
      "        [-0.9329],\n",
      "        [-0.0353],\n",
      "        [ 0.9499],\n",
      "        [-0.9798],\n",
      "        [-0.9873],\n",
      "        [ 0.9004],\n",
      "        [-0.9922],\n",
      "        [ 0.0356],\n",
      "        [-0.3966],\n",
      "        [-0.9929],\n",
      "        [-0.9813],\n",
      "        [-0.9593]])\n",
      "torch.Size([16, 7, 1]) torch.Size([16, 1])\n"
     ]
    }
   ],
   "source": [
    "for _,batch in enumerate(train_loader):\n",
    "    print(\"batch[0] =\", batch[0])\n",
    "    print(\"batch[1] =\", batch[1])\n",
    "    X_batch, y_batch = batch[0].to(device), batch[1].to(device)\n",
    "    print(X_batch.shape, y_batch.shape)\n",
    "    break"
   ]
  },
  {
   "cell_type": "code",
   "execution_count": 94,
   "metadata": {},
   "outputs": [
    {
     "data": {
      "text/plain": [
       "LSTM(\n",
       "  (lstm): LSTM(1, 4, batch_first=True)\n",
       "  (fc): Linear(in_features=4, out_features=1, bias=True)\n",
       ")"
      ]
     },
     "execution_count": 94,
     "metadata": {},
     "output_type": "execute_result"
    }
   ],
   "source": [
    "class LSTM(nn.Module):\n",
    "    def __init__(self, input_size, hidden_size, num_stacked_layers):\n",
    "        super().__init__()\n",
    "        self.hidden_size = hidden_size\n",
    "        self.num_stacked_layers = num_stacked_layers\n",
    "        self.lstm = nn.LSTM(input_size, hidden_size, num_stacked_layers, batch_first = True)\n",
    "        self.fc = nn.Linear(hidden_size, 1)\n",
    "\n",
    "    def forward(self,x):\n",
    "        batch_sizes = x.size(0)\n",
    "        h0 = torch.zeros(self.num_stacked_layers, batch_sizes, self.hidden_size).to(device)\n",
    "        c0 = torch.zeros(self.num_stacked_layers, batch_sizes, self.hidden_size).to(device)\n",
    "        out, _ = self.lstm(x, (h0,c0))\n",
    "        out = self.fc(out[: , -1, :])\n",
    "        return out\n",
    "model = LSTM(1, 4, 1)\n",
    "model.to(device)\n",
    "model\n",
    "    "
   ]
  },
  {
   "cell_type": "code",
   "execution_count": 95,
   "metadata": {},
   "outputs": [],
   "source": [
    "def train_one_epoch():\n",
    "    model.train(True)\n",
    "    print(f'Epoch: {epoch + 1}')\n",
    "    running_loss = 0.0\n",
    "    for batch_index, batch in enumerate(train_loader):\n",
    "        X_batch, y_batch = batch[0].to(device), batch[1].to(device)\n",
    "        output = model(X_batch)\n",
    "        loss = loss_function(output, y_batch)\n",
    "        running_loss += loss.item()\n",
    "        optimizer.zero_grad()\n",
    "        loss.backward()\n",
    "        optimizer.step()\n",
    "\n",
    "        if batch_index%100 == 99:\n",
    "            avg_loss_across_batches = running_loss/100\n",
    "            print('Batch {0}, Loss: {1:.3f}'.format(batch_index+1, avg_loss_across_batches))\n",
    "            running_loss = 0.0\n",
    "    print()"
   ]
  },
  {
   "cell_type": "code",
   "execution_count": 96,
   "metadata": {},
   "outputs": [],
   "source": [
    "def validate_one_epoch():\n",
    "    model.train(False)\n",
    "    running_loss = 0.0\n",
    "    for batch_index, batch in enumerate(test_loader):\n",
    "        X_batch, y_batch = batch[0].to(device), batch[1].to(device)\n",
    "        with torch.no_grad():\n",
    "            output = model(X_batch)\n",
    "            loss = loss_function(output, y_batch)\n",
    "            running_loss += loss.item()\n",
    "    avg_loss_across_batch = running_loss/len(test_loader)\n",
    "    print('Validation Loss: {0: .3f}'.format(avg_loss_across_batch))\n",
    "    print()"
   ]
  },
  {
   "cell_type": "code",
   "execution_count": 97,
   "metadata": {},
   "outputs": [
    {
     "name": "stdout",
     "output_type": "stream",
     "text": [
      "Epoch: 1\n",
      "Batch 100, Loss: 0.391\n",
      "Batch 200, Loss: 0.112\n",
      "Batch 300, Loss: 0.085\n",
      "\n",
      "Validation Loss:  0.269\n",
      "\n",
      "Epoch: 2\n",
      "Batch 100, Loss: 0.043\n",
      "Batch 200, Loss: 0.021\n",
      "Batch 300, Loss: 0.013\n",
      "\n",
      "Validation Loss:  0.023\n",
      "\n",
      "Epoch: 3\n",
      "Batch 100, Loss: 0.006\n",
      "Batch 200, Loss: 0.004\n",
      "Batch 300, Loss: 0.003\n",
      "\n",
      "Validation Loss:  0.008\n",
      "\n",
      "Epoch: 4\n",
      "Batch 100, Loss: 0.002\n",
      "Batch 200, Loss: 0.001\n",
      "Batch 300, Loss: 0.001\n",
      "\n",
      "Validation Loss:  0.005\n",
      "\n",
      "Epoch: 5\n",
      "Batch 100, Loss: 0.000\n",
      "Batch 200, Loss: 0.000\n",
      "Batch 300, Loss: 0.000\n",
      "\n",
      "Validation Loss:  0.005\n",
      "\n",
      "Epoch: 6\n",
      "Batch 100, Loss: 0.000\n",
      "Batch 200, Loss: 0.000\n",
      "Batch 300, Loss: 0.000\n",
      "\n",
      "Validation Loss:  0.005\n",
      "\n",
      "Epoch: 7\n",
      "Batch 100, Loss: 0.000\n",
      "Batch 200, Loss: 0.000\n",
      "Batch 300, Loss: 0.000\n",
      "\n",
      "Validation Loss:  0.005\n",
      "\n",
      "Epoch: 8\n",
      "Batch 100, Loss: 0.000\n",
      "Batch 200, Loss: 0.000\n",
      "Batch 300, Loss: 0.000\n",
      "\n",
      "Validation Loss:  0.004\n",
      "\n",
      "Epoch: 9\n",
      "Batch 100, Loss: 0.000\n",
      "Batch 200, Loss: 0.000\n",
      "Batch 300, Loss: 0.000\n",
      "\n",
      "Validation Loss:  0.005\n",
      "\n",
      "Epoch: 10\n",
      "Batch 100, Loss: 0.000\n",
      "Batch 200, Loss: 0.000\n",
      "Batch 300, Loss: 0.000\n",
      "\n",
      "Validation Loss:  0.005\n",
      "\n"
     ]
    }
   ],
   "source": [
    "learning_rate = 0.001\n",
    "num_epochs = 10\n",
    "loss_function = nn.MSELoss()\n",
    "optimizer = torch.optim.Adam(model.parameters(), lr=learning_rate)\n",
    "\n",
    "for epoch in range(num_epochs):\n",
    "    train_one_epoch()\n",
    "    validate_one_epoch()"
   ]
  },
  {
   "cell_type": "code",
   "execution_count": 98,
   "metadata": {},
   "outputs": [
    {
     "data": {
      "image/png": "[encoded data removed]",
      "text/plain": [
       "<Figure size 640x480 with 1 Axes>"
      ]
     },
     "metadata": {},
     "output_type": "display_data"
    }
   ],
   "source": [
    "with torch.no_grad():\n",
    "    predicted = model(X_train_tensor.to(device)).to('cpu').numpy()\n",
    "plt.plot(y_train_tensor, label = \"Actual Close\")\n",
    "plt.plot(predicted, label = \"Predicted Close\")\n",
    "plt.xlabel(\"Days\")\n",
    "plt.ylabel(\"Close\")\n",
    "plt.legend()\n",
    "plt.show()"
   ]
  },
  {
   "cell_type": "code",
   "execution_count": 99,
   "metadata": {},
   "outputs": [
    {
     "data": {
      "text/plain": [
       "array([  0.48227862,   0.48107251,   0.47999979, ..., 171.56698748,\n",
       "       171.01881759, 170.77549408])"
      ]
     },
     "execution_count": 99,
     "metadata": {},
     "output_type": "execute_result"
    }
   ],
   "source": [
    "train_predictions = predicted.flatten()\n",
    "dummmies = np.zeros((X_train_tensor.shape[0], lookback+1))\n",
    "dummmies[:, 0] = train_predictions\n",
    "dummmies = scaler.inverse_transform(dummmies)\n",
    "train_predictions = dc(dummmies[:, 0])\n",
    "train_predictions"
   ]
  },
  {
   "cell_type": "code",
   "execution_count": 100,
   "metadata": {},
   "outputs": [
    {
     "data": {
      "text/plain": [
       "array([7.91646265e-02, 7.65634249e-02, 7.52572660e-02, ...,\n",
       "       1.69091505e+02, 1.73315001e+02, 1.68871003e+02])"
      ]
     },
     "execution_count": 100,
     "metadata": {},
     "output_type": "execute_result"
    }
   ],
   "source": [
    "dummies = np.zeros((X_train_tensor.shape[0], lookback+1))\n",
    "dummies[:, 0] = y_train_tensor.flatten()\n",
    "dummies = scaler.inverse_transform(dummies)\n",
    "new_y_train = dc(dummies[:, 0])\n",
    "new_y_train"
   ]
  },
  {
   "cell_type": "code",
   "execution_count": 101,
   "metadata": {},
   "outputs": [
    {
     "data": {
      "image/png": "[encoded data removed]",
      "text/plain": [
       "<Figure size 640x480 with 1 Axes>"
      ]
     },
     "metadata": {},
     "output_type": "display_data"
    }
   ],
   "source": [
    "plt.plot(new_y_train, label='Actual Close')\n",
    "plt.plot(train_predictions, label='Predicted Close')\n",
    "plt.xlabel('Day')\n",
    "plt.ylabel('Close')\n",
    "plt.legend()\n",
    "plt.show()"
   ]
  },
  {
   "cell_type": "code",
   "execution_count": 102,
   "metadata": {},
   "outputs": [
    {
     "data": {
      "text/plain": [
       "array([170.58806861, 170.06966247, 169.66834375, 169.35200874,\n",
       "       169.57377785, 169.78783228, 169.77983414, 169.82150895,\n",
       "       169.82678361, 169.68327843, 169.28305466, 169.04627862,\n",
       "       169.02723649, 168.47136304, 167.62127035, 166.81634852,\n",
       "       166.01531738, 165.68654884, 165.74264142, 165.50048511,\n",
       "       165.11108301, 164.61733271, 163.60649909, 162.01073972,\n",
       "       158.93474102, 155.73011622, 152.72330503, 149.60968894,\n",
       "       147.288928  , 146.4245287 , 147.39502145, 149.45600684,\n",
       "       151.20573734, 150.96283068, 152.29408453, 155.04997982,\n",
       "       157.46914733, 159.53640784, 160.83596927, 160.97685658,\n",
       "       160.93326977, 160.52395292, 160.47516371, 160.11774305,\n",
       "       159.28855446, 158.21626468, 156.53210336, 155.41295305,\n",
       "       155.45363295, 155.72724823, 155.83104062, 155.9131341 ,\n",
       "       155.58762262, 154.6918366 , 152.17960943, 148.90882074,\n",
       "       146.6090695 , 146.43113175, 146.95908674, 147.05051787,\n",
       "       147.84289501, 150.16829143, 153.13899706, 156.22268821,\n",
       "       158.78394914, 161.18764284, 163.24500433, 164.39947096,\n",
       "       165.1756684 , 166.0873451 , 167.10393137, 167.63277566,\n",
       "       167.36381253, 166.89770833, 166.97383238, 167.07971463,\n",
       "       166.10343031, 164.7244822 , 163.25109047, 161.38915259,\n",
       "       159.45777707, 158.34748085, 157.6753926 , 157.13642697,\n",
       "       157.59223197, 158.13346532, 157.52473412, 155.87360473,\n",
       "       154.1512869 , 151.99721406, 149.29115291, 147.85060969,\n",
       "       144.06127035, 139.29485743, 135.38147746, 132.46408535,\n",
       "       128.71645416, 124.74055642, 120.00645288, 116.69101023,\n",
       "       113.2530721 , 110.75711912, 110.29451375, 110.39689994,\n",
       "       111.59700154, 111.38154646, 110.75284214, 110.25402561,\n",
       "       109.68537403, 108.25629166, 107.60833123, 108.04481341,\n",
       "       109.91823438, 112.85006371, 115.98892201, 119.52792905,\n",
       "       122.14678603, 124.28944804, 125.46314577, 125.5851299 ,\n",
       "       124.14653758, 121.0175644 , 116.43974138, 112.10890467,\n",
       "       109.67349355, 107.43158292, 106.3451894 , 106.49826011,\n",
       "       107.21324039, 108.83632349, 111.23324462, 112.60342756,\n",
       "       112.42508962, 111.96537726, 110.815321  , 110.36558825,\n",
       "       110.88826859, 111.7383724 , 113.21454041, 114.65505863,\n",
       "       114.89466375, 114.2692693 , 113.52534788, 112.7998683 ,\n",
       "       112.84797386, 113.13206065, 114.48291244, 117.04515438,\n",
       "       120.00933754, 122.10834883, 123.30882838, 122.56754151,\n",
       "       122.55160915, 122.90775422, 125.72007557, 129.21122716,\n",
       "       132.21856082, 135.62175512, 139.49088132, 142.1614872 ,\n",
       "       143.67418042, 143.81562354, 144.49253623, 145.12197144,\n",
       "       145.68303062, 146.26534961, 147.06489118, 147.48611909,\n",
       "       147.60434037, 146.80214202, 144.91046262, 142.75714014,\n",
       "       141.03724009, 140.27471007, 139.01506152, 137.32037311,\n",
       "       135.83899992, 134.34224739, 133.11846541, 132.16353818,\n",
       "       131.05193302, 131.0570187 , 131.49740547, 132.67299296,\n",
       "       134.64716603, 134.70911131, 134.21509977, 133.38263189,\n",
       "       131.71129038, 130.2647027 , 128.54149557, 126.18627982,\n",
       "       124.17267743, 121.61835304, 119.71467921, 118.25801743,\n",
       "       117.86403543, 117.35744586, 116.61127617, 116.53985151,\n",
       "       117.87670795, 119.30356707, 120.44346586, 119.99120139,\n",
       "       119.06835286, 117.81380111, 116.60704366, 115.40255392,\n",
       "       113.30882563, 112.86622118, 113.72388403, 114.5010208 ,\n",
       "       115.2328811 , 116.66213022, 118.2275867 , 119.9045697 ,\n",
       "       119.94641403, 118.45570319, 115.15775195, 111.60089778,\n",
       "       107.19054101, 102.41958225,  97.93541777,  94.99483509,\n",
       "        92.96819126,  91.64167849,  89.91958854,  90.95336748,\n",
       "        93.16958846,  94.8919188 ,  96.34091107,  97.11563491,\n",
       "        97.11205479,  96.79291639,  95.64326935,  94.68641693,\n",
       "        94.24739259,  93.82789186,  93.71687044,  93.42237398,\n",
       "        94.05636268,  94.53243329,  94.60107333,  93.89351871,\n",
       "        92.59808835,  91.43147028,  90.8939956 ,  90.1512664 ,\n",
       "        89.96257923,  90.38257603,  90.7576215 ,  90.47679872,\n",
       "        89.97672327,  88.79854291,  87.8288672 ,  87.30543373,\n",
       "        86.26440284,  85.78573589,  85.08002795,  84.26592827,\n",
       "        84.17314374,  84.08306046,  84.40476741,  84.68198019,\n",
       "        84.45428195,  84.93532221,  85.64835854,  86.72621895,\n",
       "        88.79474949,  90.65588561,  92.88307486,  94.38036235,\n",
       "        95.2309254 ,  95.33289125,  95.89635362,  96.29988656,\n",
       "        96.40819979,  96.5711049 ,  97.24536081,  98.54382799,\n",
       "        99.43040003, 100.52358002, 101.92405056, 104.83239961,\n",
       "       105.56502623, 105.3359871 , 104.76341357, 103.77550861,\n",
       "       102.31480885, 100.80963021,  99.82343437,  99.57285751,\n",
       "        99.81032137,  99.48874226,  99.00793127,  98.02465205,\n",
       "        97.35012448,  96.75759869,  95.81442689,  95.03881443,\n",
       "        94.65043503,  93.98055475,  93.46139687,  93.58570221,\n",
       "        93.57087731,  93.60661951,  93.69761432,  93.41748561,\n",
       "        92.86554107,  92.6831318 ,  93.01070048,  93.72510133,\n",
       "        95.23677741,  96.42597536,  97.19247944,  98.36356416,\n",
       "        98.86501803,  99.06808405,  98.98724115,  98.72913025,\n",
       "        98.37986197,  98.73534702,  99.43921383, 100.49798903,\n",
       "       101.27574831, 102.22363201])"
      ]
     },
     "execution_count": 102,
     "metadata": {},
     "output_type": "execute_result"
    }
   ],
   "source": [
    "test_predictions = model(X_test_tensor.to(device)).detach().cpu().numpy().flatten()\n",
    "dummies = np.zeros((X_test_tensor.shape[0], lookback + 1))\n",
    "dummies[:, 0] = test_predictions\n",
    "dummies = scaler.inverse_transform(dummies)\n",
    "\n",
    "test_predictions = dc(dummies[:, 0])\n",
    "test_predictions"
   ]
  },
  {
   "cell_type": "code",
   "execution_count": 103,
   "metadata": {},
   "outputs": [
    {
     "data": {
      "text/plain": [
       "array([170.01749949, 167.07899763, 170.41700626, 171.03700377,\n",
       "       171.0684961 , 169.66949429, 170.66099675, 169.20100565,\n",
       "       168.64449858, 166.71699707, 170.40449492, 167.52200227,\n",
       "       164.35699578, 163.25399737, 162.55400179, 161.48599177,\n",
       "       165.36199892, 165.20699954, 161.21400501, 162.13799851,\n",
       "       158.91749416, 156.29899568, 151.66749509, 142.64300408,\n",
       "       144.54400445, 139.98599336, 138.87249844, 139.63749627,\n",
       "       143.97799855, 149.57350001, 151.19349835, 150.61250219,\n",
       "       138.84550541, 157.63949825, 157.93550165, 161.41349717,\n",
       "       161.18949925, 159.003495  , 153.29350176, 155.1670061 ,\n",
       "       156.51049894, 158.10049453, 154.6524962 , 152.60149876,\n",
       "       150.19749381, 144.82699629, 151.35800212, 153.78849709,\n",
       "       153.56300403, 151.14199678, 152.05250627, 147.89849848,\n",
       "       145.64100565, 137.45300383, 136.01449488, 139.27900567,\n",
       "       146.81750468, 145.52450739, 141.8529947 , 147.36650272,\n",
       "       153.10400311, 157.23899657, 161.25050521, 161.49149987,\n",
       "       164.8890082 , 163.4080074 , 163.64950785, 164.77349929,\n",
       "       168.99049174, 169.31500275, 166.30099379, 162.99749555,\n",
       "       163.55999984, 168.34649425, 164.05499516, 158.75599734,\n",
       "       157.78449856, 154.4604964 , 151.1219931 , 150.78750525,\n",
       "       155.54100108, 151.70649644, 152.78500575, 158.11549591,\n",
       "       153.99799942, 148.29600432, 144.35000372, 146.07400567,\n",
       "       139.39100462, 138.16700588, 144.59649537, 124.2815027 ,\n",
       "       124.50000086, 124.25350088, 125.92849685, 116.40699847,\n",
       "       114.77249899, 108.78900163, 108.85900063, 105.37200234,\n",
       "       106.93049589, 113.05500005, 110.81050072, 115.36850069,\n",
       "       107.11250358, 107.31900035, 107.59100239, 107.55699918,\n",
       "       104.09999809, 106.77500184, 111.07749906, 115.14649953,\n",
       "       120.20950223, 121.68399725, 125.51100121, 122.34999935,\n",
       "       124.79000149, 122.99999961, 121.18000054, 116.15000198,\n",
       "       109.65000214, 103.66999806, 102.30999829, 107.6699986 ,\n",
       "       103.66000386, 106.22000101, 108.67999989, 108.94999683,\n",
       "       112.44000207, 116.45999935, 113.22000127, 107.40000166,\n",
       "       108.91999825, 106.20999917, 109.55999806, 113.50000006,\n",
       "       114.33000152, 116.3300018 , 115.54000075, 111.74999999,\n",
       "       109.22000073, 110.40000137, 110.62999651, 113.55000232,\n",
       "       113.76000211, 118.20999802, 122.76999614, 124.62999702,\n",
       "       122.41999835, 121.13999873, 114.80999825, 120.97000076,\n",
       "       122.28000035, 134.94999758, 135.38999806, 134.16000488,\n",
       "       139.5200031 , 142.57000925, 140.80000272, 139.41000507,\n",
       "       137.83000298, 142.69000357, 140.64000103, 143.55000084,\n",
       "       143.17999102, 144.7799968 , 142.10000324, 142.30000119,\n",
       "       138.22999608, 133.22000121, 133.61999431, 133.80000247,\n",
       "       137.27999891, 130.7499991 , 129.78999174, 128.72999653,\n",
       "       126.76999668, 127.82000117, 127.51000241, 126.11000014,\n",
       "       129.47999576, 129.82000839, 133.27000486, 136.44999605,\n",
       "       126.82000034, 128.55000227, 126.27999811, 123.52999999,\n",
       "       124.66000532, 122.19000322, 118.54000046, 117.30999894,\n",
       "       113.77999884, 115.15000254, 114.41000376, 118.01000286,\n",
       "       114.80000336, 112.99999964, 115.8799967 , 121.08999508,\n",
       "       120.94999707, 120.30000237, 114.55999805, 113.66999803,\n",
       "       112.2099986 , 112.90000206, 112.5299992 , 106.90000263,\n",
       "       113.79000069, 116.36000038, 115.0700003 , 115.25000012,\n",
       "       119.31999967, 119.82000008, 120.59999928, 115.66000341,\n",
       "       110.95999895, 103.41000365, 102.4400021 ,  96.79000116,\n",
       "        92.12000301,  89.30000302,  90.98000304,  90.52999899,\n",
       "        89.98000291,  86.13999884,  96.62999704, 100.79000101,\n",
       "        98.48999791,  98.94000197,  97.1200029 ,  94.84999805,\n",
       "        94.13999897,  92.45999904,  93.199997  ,  94.12999696,\n",
       "        93.410004  ,  93.94999701,  92.41999801,  96.54000095,\n",
       "        95.50000004,  94.12999696,  91.01000197,  88.24999993,\n",
       "        88.45999902,  90.34999813,  89.08999594,  90.55000302,\n",
       "        92.48999797,  91.58000208,  88.44999683,  87.86000102,\n",
       "        84.91999777,  85.19000167,  86.76999681,  83.79000078,\n",
       "        85.25000022,  83.04000085,  81.81999979,  84.17999969,\n",
       "        83.99999987,  85.82000033,  85.13999871,  83.12000309,\n",
       "        86.08000168,  87.3600013 ,  89.87000314,  95.08999606,\n",
       "        95.26999692,  98.12000304,  96.05000307,  95.45999893,\n",
       "        93.68      ,  97.25000011,  97.51999705,  96.32000002,\n",
       "        97.18000006,  99.22000076, 102.2399979 , 100.55000334,\n",
       "       103.12999722, 105.15000257, 112.9100039 , 103.38999927,\n",
       "       102.18000005, 102.11000105, 100.05000292,  98.23999805,\n",
       "        97.61000113,  99.54000066,  99.69999679, 101.16000387,\n",
       "        98.15000197,  97.19999715,  94.58000197,  95.79000102,\n",
       "        95.81999995,  93.5       ,  93.760002  ,  94.23000296,\n",
       "        92.16999798,  92.12999703,  94.90000205,  93.74999998,\n",
       "        93.55000299,  93.919998  ,  92.25000004,  90.73000301,\n",
       "        92.43000003,  94.87999697,  96.19999701, 100.04000108,\n",
       "        98.94999687,  97.70999906, 100.61000119,  98.69999701,\n",
       "        98.70999885,  98.12999689,  98.04000115,  97.23999792,\n",
       "       100.25000017, 102.00000023, 103.290001  , 102.41000421,\n",
       "       103.94999685, 101.09999768])"
      ]
     },
     "execution_count": 103,
     "metadata": {},
     "output_type": "execute_result"
    }
   ],
   "source": [
    "dummies = np.zeros((X_test_tensor.shape[0], lookback+1))\n",
    "dummies[:, 0] = y_test_tensor.flatten()\n",
    "dummies = scaler.inverse_transform(dummies)\n",
    "\n",
    "new_test_y = dummies[:, 0]\n",
    "new_test_y"
   ]
  },
  {
   "cell_type": "code",
   "execution_count": 104,
   "metadata": {},
   "outputs": [
    {
     "data": {
      "image/png": "[encoded data removed]",
      "text/plain": [
       "<Figure size 640x480 with 1 Axes>"
      ]
     },
     "metadata": {},
     "output_type": "display_data"
    }
   ],
   "source": [
    "plt.plot(new_test_y, label = \"Actual Close\")\n",
    "plt.plot(test_predictions, label = \"Predicted Close\")\n",
    "plt.xlabel(\"Day\")\n",
    "plt.ylabel(\"Close\")\n",
    "plt.legend()\n",
    "plt.show()"
   ]
  },
  {
   "cell_type": "code",
   "execution_count": null,
   "metadata": {},
   "outputs": [],
   "source": []
  }
 ],
 "metadata": {
  "kernelspec": {
   "display_name": "latest",
   "language": "python",
   "name": "python3"
  },
  "language_info": {
   "codemirror_mode": {
    "name": "ipython",
    "version": 3
   },
   "file_extension": ".py",
   "mimetype": "text/x-python",
   "name": "python",
   "nbconvert_exporter": "python",
   "pygments_lexer": "ipython3",
   "version": "3.11.8"
  }
 },
 "nbformat": 4,
 "nbformat_minor": 2
}
